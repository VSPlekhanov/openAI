{
 "cells": [
  {
   "cell_type": "code",
   "execution_count": 69,
   "metadata": {},
   "outputs": [],
   "source": [
    "import gym\n",
    "import random\n",
    "import numpy as np\n",
    "from keras.models     import Sequential\n",
    "from keras.layers     import Dense\n",
    "from keras.optimizers import Adam"
   ]
  },
  {
   "cell_type": "code",
   "execution_count": 75,
   "metadata": {},
   "outputs": [],
   "source": [
    "env = gym.make('MountainCar-v0')\n",
    "env.reset()\n",
    "max_steps_count = 200\n",
    "min_score_requirement = -198\n",
    "training_games_count = 10000"
   ]
  },
  {
   "cell_type": "code",
   "execution_count": 79,
   "metadata": {},
   "outputs": [],
   "source": [
    "def model_data_preparation():\n",
    "    training_games_data = []\n",
    "    accepted = []\n",
    "    for i in range(training_games_count):\n",
    "        score = 0\n",
    "        memory = []\n",
    "        prev_obs = []\n",
    "        for step in range(max_steps_count):\n",
    "            action = random.randrange(0, 2) * 2\n",
    "            obs, reward, done, info = env.step(action)\n",
    "            \n",
    "            if len(prev_obs) > 0:\n",
    "                memory.append([prev_obs, action])\n",
    "                \n",
    "            prev_obs = obs\n",
    "            if obs[0] > -0.15:\n",
    "                reward = 1\n",
    "            score += reward\n",
    "            if done:\n",
    "                break\n",
    "            \n",
    "        if score >= min_score_requirement:\n",
    "            accepted.append(score)\n",
    "            for data in memory:\n",
    "                if data[1] == 0:\n",
    "                    output = (1, 0, 0)\n",
    "                elif data[1] == 2:\n",
    "                    output = (0, 0, 1)\n",
    "                training_games_data.append((data[0], output))\n",
    "        \n",
    "        env.reset()\n",
    "    \n",
    "    \n",
    "    return training_games_data"
   ]
  },
  {
   "cell_type": "code",
   "execution_count": 80,
   "metadata": {},
   "outputs": [],
   "source": [
    "data = model_data_preparation()"
   ]
  },
  {
   "cell_type": "code",
   "execution_count": 81,
   "metadata": {},
   "outputs": [],
   "source": [
    "def build_model(input_size, output_size):\n",
    "        model = Sequential()\n",
    "        model.add(Dense(128, input_dim=input_size, activation='relu'))\n",
    "        model.add(Dense(64, activation='relu'))\n",
    "        model.add(Dense(output_size, activation='linear'))\n",
    "        model.compile(loss='mse', optimizer=Adam())\n",
    "\n",
    "        return model"
   ]
  },
  {
   "cell_type": "code",
   "execution_count": 82,
   "metadata": {},
   "outputs": [],
   "source": [
    "def train_model(training_data):\n",
    "    x = np.array([i[0] for i in training_data]).reshape(-1, len(training_data[0][0]))\n",
    "    y = np.array([i[1] for i in training_data]).reshape(-1, len(training_data[0][1]))\n",
    "    model = build_model(input_size=len(x[0]), output_size=len(y[0]))\n",
    "    \n",
    "    model.fit(x, y, epochs=5)\n",
    "    return model"
   ]
  },
  {
   "cell_type": "code",
   "execution_count": 83,
   "metadata": {},
   "outputs": [
    {
     "name": "stdout",
     "output_type": "stream",
     "text": [
      "Epoch 1/5\n",
      "12935/12935 [==============================] - 2s 126us/step - loss: 0.1754\n",
      "Epoch 2/5\n",
      "12935/12935 [==============================] - 1s 56us/step - loss: 0.1652\n",
      "Epoch 3/5\n",
      "12935/12935 [==============================] - 1s 54us/step - loss: 0.1644\n",
      "Epoch 4/5\n",
      "12935/12935 [==============================] - 1s 61us/step - loss: 0.1637\n",
      "Epoch 5/5\n",
      "12935/12935 [==============================] - 1s 61us/step - loss: 0.1637\n"
     ]
    }
   ],
   "source": [
    "trained_model = train_model(training_data)"
   ]
  },
  {
   "cell_type": "code",
   "execution_count": 84,
   "metadata": {},
   "outputs": [
    {
     "name": "stdout",
     "output_type": "stream",
     "text": [
      "[-124.0, -126.0, -127.0, -132.0, -127.0, -127.0, -124.0, -120.0, -130.0, -138.0, -200.0, -119.0, -120.0, -121.0, -127.0, -200.0, -136.0, -128.0, -126.0, -133.0, -200.0, -119.0, -120.0, -121.0, -119.0, -200.0, -142.0, -123.0, -126.0, -126.0, -136.0, -130.0, -130.0, -200.0, -127.0, -127.0, -130.0, -130.0, -134.0, -123.0, -127.0, -121.0, -200.0, -121.0, -123.0, -119.0, -200.0, -125.0, -128.0, -200.0, -119.0, -121.0, -133.0, -126.0, -122.0, -119.0, -127.0, -128.0, -130.0, -139.0, -138.0, -200.0, -127.0, -127.0, -119.0, -127.0, -200.0, -119.0, -127.0, -127.0, -130.0, -200.0, -122.0, -126.0, -127.0, -119.0, -200.0, -122.0, -134.0, -200.0, -121.0, -126.0, -133.0, -120.0, -127.0, -200.0, -121.0, -127.0, -139.0, -130.0, -130.0, -127.0, -127.0, -130.0, -121.0, -123.0, -134.0, -123.0, -200.0, -120.0]\n",
      "Average Score: -137.46\n"
     ]
    }
   ],
   "source": [
    "scores = []\n",
    "for i in range(100):\n",
    "    score = 0\n",
    "    prev_obs = []\n",
    "    for step in range(goal_steps):\n",
    "#         env.render()\n",
    "        if len(prev_obs) == 0:\n",
    "            action = 0\n",
    "        else:\n",
    "            action = np.argmax(trained_model.predict(prev_obs.reshape(-1, len(prev_obs)))[0])\n",
    "        \n",
    "        prev_obs, reward, done, info = env.step(action)\n",
    "        score += reward\n",
    "        if done:\n",
    "            break\n",
    "\n",
    "    env.reset()\n",
    "    scores.append(score)\n",
    "\n",
    "print(scores)\n",
    "print('average score:',sum(scores)/len(scores))"
   ]
  },
  {
   "cell_type": "code",
   "execution_count": null,
   "metadata": {},
   "outputs": [],
   "source": []
  }
 ],
 "metadata": {
  "kernelspec": {
   "display_name": "Python3.6Test",
   "language": "python",
   "name": "python3.6test"
  },
  "language_info": {
   "codemirror_mode": {
    "name": "ipython",
    "version": 3
   },
   "file_extension": ".py",
   "mimetype": "text/x-python",
   "name": "python",
   "nbconvert_exporter": "python",
   "pygments_lexer": "ipython3",
   "version": "3.6.8"
  }
 },
 "nbformat": 4,
 "nbformat_minor": 2
}
